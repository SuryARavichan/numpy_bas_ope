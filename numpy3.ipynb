{
  "nbformat": 4,
  "nbformat_minor": 0,
  "metadata": {
    "colab": {
      "name": "numpy3.ipynb",
      "provenance": [],
      "authorship_tag": "ABX9TyP3SBtmCF2aju+xE76hR61n",
      "include_colab_link": true
    },
    "kernelspec": {
      "name": "python3",
      "display_name": "Python 3"
    },
    "language_info": {
      "name": "python"
    }
  },
  "cells": [
    {
      "cell_type": "markdown",
      "metadata": {
        "id": "view-in-github",
        "colab_type": "text"
      },
      "source": [
        "<a href=\"https://colab.research.google.com/github/SuryARavichan/numpy_bas_ope/blob/main/numpy3.ipynb\" target=\"_parent\"><img src=\"https://colab.research.google.com/assets/colab-badge.svg\" alt=\"Open In Colab\"/></a>"
      ]
    },
    {
      "cell_type": "code",
      "metadata": {
        "id": "GecGuw_820zo"
      },
      "source": [
        "import numpy as np\n",
        "import matplotlib.pyplot as plt\n",
        "import random\n"
      ],
      "execution_count": 2,
      "outputs": []
    },
    {
      "cell_type": "code",
      "metadata": {
        "colab": {
          "base_uri": "https://localhost:8080/"
        },
        "id": "m0u2xG2i29HB",
        "outputId": "b731b4bb-05f4-4e45-9547-f09d30e592ae"
      },
      "source": [
        "list_1 = [1,2,3,4,5]\n",
        "np.arr_1 = np.array(list_1,dtype=np.int8)\n",
        "np.arr_1\n",
        "\n"
      ],
      "execution_count": 6,
      "outputs": [
        {
          "output_type": "execute_result",
          "data": {
            "text/plain": [
              "array([[ 1,  2,  3,  4,  5],\n",
              "       [ 7,  8,  9, 10, 11]])"
            ]
          },
          "metadata": {},
          "execution_count": 6
        }
      ]
    },
    {
      "cell_type": "code",
      "metadata": {
        "colab": {
          "base_uri": "https://localhost:8080/"
        },
        "id": "SaxiPcw04Yup",
        "outputId": "1a8a8f91-5817-4084-8d32-3aa5b934780a"
      },
      "source": [
        "m_list_1 = [[1,2,3,4,5],[7,8,9,10,11]]\n",
        "np_m_arr_1 = np.array(m_list_1)\n",
        "np_m_arr_1"
      ],
      "execution_count": 8,
      "outputs": [
        {
          "output_type": "execute_result",
          "data": {
            "text/plain": [
              "array([[ 1,  2,  3,  4,  5],\n",
              "       [ 7,  8,  9, 10, 11]])"
            ]
          },
          "metadata": {},
          "execution_count": 8
        }
      ]
    },
    {
      "cell_type": "code",
      "metadata": {
        "colab": {
          "base_uri": "https://localhost:8080/"
        },
        "id": "Hs_ilEf-4a4T",
        "outputId": "a6817662-1d4a-42ea-f081-d17fe2a591d3"
      },
      "source": [
        "np.arange(0,15)\n",
        "np.linspace(2,15,3)"
      ],
      "execution_count": 11,
      "outputs": [
        {
          "output_type": "execute_result",
          "data": {
            "text/plain": [
              "array([ 2. ,  8.5, 15. ])"
            ]
          },
          "metadata": {},
          "execution_count": 11
        }
      ]
    },
    {
      "cell_type": "code",
      "metadata": {
        "colab": {
          "base_uri": "https://localhost:8080/"
        },
        "id": "o6_7O9314lYc",
        "outputId": "3d6a2182-5cd0-4934-ab66-01a7fe264899"
      },
      "source": [
        "np.linspace(2,15,3)"
      ],
      "execution_count": 12,
      "outputs": [
        {
          "output_type": "execute_result",
          "data": {
            "text/plain": [
              "array([ 2. ,  8.5, 15. ])"
            ]
          },
          "metadata": {},
          "execution_count": 12
        }
      ]
    },
    {
      "cell_type": "code",
      "metadata": {
        "colab": {
          "base_uri": "https://localhost:8080/"
        },
        "id": "lIlR9TIM4l9x",
        "outputId": "9ad87c35-259d-41da-c65d-e1c492530305"
      },
      "source": [
        "np.ones(15)"
      ],
      "execution_count": 13,
      "outputs": [
        {
          "output_type": "execute_result",
          "data": {
            "text/plain": [
              "array([1., 1., 1., 1., 1., 1., 1., 1., 1., 1., 1., 1., 1., 1., 1.])"
            ]
          },
          "metadata": {},
          "execution_count": 13
        }
      ]
    },
    {
      "cell_type": "code",
      "metadata": {
        "colab": {
          "base_uri": "https://localhost:8080/"
        },
        "id": "ebo8xnbA4qCX",
        "outputId": "67e79b71-59e7-463d-999f-011589ca331a"
      },
      "source": [
        "np.zeros(4)"
      ],
      "execution_count": 14,
      "outputs": [
        {
          "output_type": "execute_result",
          "data": {
            "text/plain": [
              "array([0., 0., 0., 0.])"
            ]
          },
          "metadata": {},
          "execution_count": 14
        }
      ]
    },
    {
      "cell_type": "code",
      "metadata": {
        "colab": {
          "base_uri": "https://localhost:8080/"
        },
        "id": "l6CMN5cP4tIi",
        "outputId": "e2377f04-86cb-4f6c-c027-233f31331fac"
      },
      "source": [
        "np_arr_2 = np.array([2,4,6,8,10])\n",
        "np_arr_2.dtype"
      ],
      "execution_count": 16,
      "outputs": [
        {
          "output_type": "execute_result",
          "data": {
            "text/plain": [
              "dtype('int64')"
            ]
          },
          "metadata": {},
          "execution_count": 16
        }
      ]
    },
    {
      "cell_type": "code",
      "metadata": {
        "colab": {
          "base_uri": "https://localhost:8080/"
        },
        "id": "LzOsD1fx46eI",
        "outputId": "7acef55f-5546-4ddc-f4a2-0121ab81b693"
      },
      "source": [
        "np.random.randint(15,23, size=(2,5))\n"
      ],
      "execution_count": 18,
      "outputs": [
        {
          "output_type": "execute_result",
          "data": {
            "text/plain": [
              "array([[17, 22, 21, 21, 17],\n",
              "       [19, 19, 17, 21, 15]])"
            ]
          },
          "metadata": {},
          "execution_count": 18
        }
      ]
    },
    {
      "cell_type": "code",
      "metadata": {
        "colab": {
          "base_uri": "https://localhost:8080/"
        },
        "id": "OT-RVasD4-xX",
        "outputId": "5d7e8d28-b5c2-4a8c-cce1-1f353bf303df"
      },
      "source": [
        "np_m_arr_1[0,0] = 2\n",
        "np_m_arr_1.itemset(1,2)\n",
        "np_m_arr_1\n"
      ],
      "execution_count": 21,
      "outputs": [
        {
          "output_type": "execute_result",
          "data": {
            "text/plain": [
              "array([[ 2,  2,  3,  4,  5],\n",
              "       [ 7,  8,  9, 10, 11]])"
            ]
          },
          "metadata": {},
          "execution_count": 21
        }
      ]
    },
    {
      "cell_type": "code",
      "metadata": {
        "colab": {
          "base_uri": "https://localhost:8080/"
        },
        "id": "ZQW0z6ly5Z5z",
        "outputId": "872a789d-fceb-4430-ce93-b0cb84b9f45e"
      },
      "source": [
        "np_m_arr_1[0:5]\n"
      ],
      "execution_count": 27,
      "outputs": [
        {
          "output_type": "execute_result",
          "data": {
            "text/plain": [
              "array([[ 2,  2, 15,  4,  5],\n",
              "       [ 7,  8,  9, 96, 32]])"
            ]
          },
          "metadata": {},
          "execution_count": 27
        }
      ]
    },
    {
      "cell_type": "code",
      "metadata": {
        "colab": {
          "base_uri": "https://localhost:8080/"
        },
        "id": "M6HIAlf36HDU",
        "outputId": "edcbb6ba-cc5a-4d8b-af40-7088747d648f"
      },
      "source": [
        "evens = np_m_arr_1[np_m_arr_1 %2==0]\n",
        "evens"
      ],
      "execution_count": 29,
      "outputs": [
        {
          "output_type": "execute_result",
          "data": {
            "text/plain": [
              "array([ 2,  2,  4,  8, 96, 32])"
            ]
          },
          "metadata": {},
          "execution_count": 29
        }
      ]
    },
    {
      "cell_type": "code",
      "metadata": {
        "colab": {
          "base_uri": "https://localhost:8080/"
        },
        "id": "iEE8O5Zp6Vkp",
        "outputId": "9356ac6f-ef2a-4a37-9a4b-ca4ffd38ba11"
      },
      "source": [
        "greater = np_m_arr_1[np_m_arr_1 > 5]\n",
        "greater"
      ],
      "execution_count": 31,
      "outputs": [
        {
          "output_type": "execute_result",
          "data": {
            "text/plain": [
              "array([15,  7,  8,  9, 96, 32])"
            ]
          },
          "metadata": {},
          "execution_count": 31
        }
      ]
    },
    {
      "cell_type": "code",
      "metadata": {
        "colab": {
          "base_uri": "https://localhost:8080/"
        },
        "id": "V9qSZP796c2m",
        "outputId": "346f8645-b828-4321-f258-ecd17beed7c7"
      },
      "source": [
        "np_m_arr_1.transpose()\n"
      ],
      "execution_count": 36,
      "outputs": [
        {
          "output_type": "execute_result",
          "data": {
            "text/plain": [
              "array([[ 2,  7],\n",
              "       [ 2,  8],\n",
              "       [15,  9],\n",
              "       [ 4, 96],\n",
              "       [ 5, 32]])"
            ]
          },
          "metadata": {},
          "execution_count": 36
        }
      ]
    },
    {
      "cell_type": "code",
      "metadata": {
        "colab": {
          "base_uri": "https://localhost:8080/"
        },
        "id": "0Qn6mdLf6kzl",
        "outputId": "837ce889-9683-43cc-8e66-610434b4751a"
      },
      "source": [
        "np_m_arr_1.flatten()"
      ],
      "execution_count": 40,
      "outputs": [
        {
          "output_type": "execute_result",
          "data": {
            "text/plain": [
              "array([ 2,  2, 15,  4,  5,  7,  8,  9, 96, 32])"
            ]
          },
          "metadata": {},
          "execution_count": 40
        }
      ]
    },
    {
      "cell_type": "code",
      "metadata": {
        "colab": {
          "base_uri": "https://localhost:8080/"
        },
        "id": "ZiHciY-C689k",
        "outputId": "1c344030-5f99-46b4-cea2-c978a2c27753"
      },
      "source": [
        "cp_arr_1 = np.random.randint(10, size=(2,3))\n",
        "cp_arr_2 = cp_arr_1\n",
        "cp_arr_1[0,0] = 2\n",
        "print('cp_arr_1\\n',cp_arr_1)\n",
        "print('cp_arr_2\\n',cp_arr_2)\n",
        "cp_arr_3 = cp_arr_1.view()\n",
        "cp_arr_3.flatten('F')\n",
        "cp_arr_3"
      ],
      "execution_count": 52,
      "outputs": [
        {
          "output_type": "stream",
          "name": "stdout",
          "text": [
            "cp_arr_1\n",
            " [[2 0 4]\n",
            " [1 9 4]]\n",
            "cp_arr_2\n",
            " [[2 0 4]\n",
            " [1 9 4]]\n"
          ]
        },
        {
          "output_type": "execute_result",
          "data": {
            "text/plain": [
              "array([[2, 0, 4],\n",
              "       [1, 9, 4]])"
            ]
          },
          "metadata": {},
          "execution_count": 52
        }
      ]
    },
    {
      "cell_type": "code",
      "metadata": {
        "colab": {
          "base_uri": "https://localhost:8080/"
        },
        "id": "bEynQIaX9Fj_",
        "outputId": "238ae3f1-cd88-4e80-c5d3-a459a3ee881e"
      },
      "source": [
        "arr_3 = np.array([1,2,3,4,15])\n",
        "arr_4 = np.array([2,4,6,8,10])\n",
        "print(arr_3 + arr_4)\n",
        "print(arr_3 - arr_4)\n",
        "print(arr_3 * arr_4)\n",
        "print(arr_3 / arr_4)\n"
      ],
      "execution_count": 56,
      "outputs": [
        {
          "output_type": "stream",
          "name": "stdout",
          "text": [
            "[ 3  6  9 12 25]\n",
            "[-1 -2 -3 -4  5]\n",
            "[  2   8  18  32 150]\n",
            "[0.5 0.5 0.5 0.5 1.5]\n"
          ]
        }
      ]
    },
    {
      "cell_type": "code",
      "metadata": {
        "colab": {
          "base_uri": "https://localhost:8080/"
        },
        "id": "v1NW2qYk9_Cj",
        "outputId": "1ddd7a07-3330-4929-d25c-002e2056658f"
      },
      "source": [
        "arr_5 = np.random.randint(120, size=(2,3))\n",
        "arr_5\n",
        "\n"
      ],
      "execution_count": 60,
      "outputs": [
        {
          "output_type": "execute_result",
          "data": {
            "text/plain": [
              "array([[ 25, 135, 131,  72,  93],\n",
              "       [100, 149, 145,  68,  69],\n",
              "       [128, 103, 134,  18,  67]])"
            ]
          },
          "metadata": {},
          "execution_count": 60
        }
      ]
    },
    {
      "cell_type": "code",
      "metadata": {
        "colab": {
          "base_uri": "https://localhost:8080/"
        },
        "id": "BCYnpGfC-hZj",
        "outputId": "cb3d3cc5-2eb2-4b1c-a424-a4aa2e7e6ca0"
      },
      "source": [
        "arr_6 = np.random.randint(150, size=(3,5))\n",
        "arr_6"
      ],
      "execution_count": 61,
      "outputs": [
        {
          "output_type": "execute_result",
          "data": {
            "text/plain": [
              "array([[ 97,  30, 146,  64,  28],\n",
              "       [ 45,  52,  97, 137, 123],\n",
              "       [ 97,  85,  88,  14,  29]])"
            ]
          },
          "metadata": {},
          "execution_count": 61
        }
      ]
    },
    {
      "cell_type": "code",
      "metadata": {
        "colab": {
          "base_uri": "https://localhost:8080/"
        },
        "id": "cZJy_ro5-ip8",
        "outputId": "26a65f16-c522-477e-88c2-ba4e2c2cd695"
      },
      "source": [
        "arr_3.sum()"
      ],
      "execution_count": 63,
      "outputs": [
        {
          "output_type": "execute_result",
          "data": {
            "text/plain": [
              "25"
            ]
          },
          "metadata": {},
          "execution_count": 63
        }
      ]
    },
    {
      "cell_type": "code",
      "metadata": {
        "colab": {
          "base_uri": "https://localhost:8080/"
        },
        "id": "UnX0opA2-pMQ",
        "outputId": "47e2ac1a-c15a-4530-c6dc-766a340a4882"
      },
      "source": [
        "arr_5.sum()\n"
      ],
      "execution_count": 65,
      "outputs": [
        {
          "output_type": "execute_result",
          "data": {
            "text/plain": [
              "232"
            ]
          },
          "metadata": {},
          "execution_count": 65
        }
      ]
    },
    {
      "cell_type": "code",
      "metadata": {
        "colab": {
          "base_uri": "https://localhost:8080/"
        },
        "id": "hv6C6D0g-tpp",
        "outputId": "a1ac35fa-fa15-4ea7-d372-e9c90aa5b47b"
      },
      "source": [
        "arr_6.cumsum()\n"
      ],
      "execution_count": 67,
      "outputs": [
        {
          "output_type": "execute_result",
          "data": {
            "text/plain": [
              "array([  97,  127,  273,  337,  365,  410,  462,  559,  696,  819,  916,\n",
              "       1001, 1089, 1103, 1132])"
            ]
          },
          "metadata": {},
          "execution_count": 67
        }
      ]
    },
    {
      "cell_type": "code",
      "metadata": {
        "colab": {
          "base_uri": "https://localhost:8080/"
        },
        "id": "3oTlwLzd-ySz",
        "outputId": "a224d6b8-0cd2-4d68-d269-b192fd172a47"
      },
      "source": [
        "arr_4.conjugate()\n"
      ],
      "execution_count": 69,
      "outputs": [
        {
          "output_type": "execute_result",
          "data": {
            "text/plain": [
              "array([ 2,  4,  6,  8, 10])"
            ]
          },
          "metadata": {},
          "execution_count": 69
        }
      ]
    },
    {
      "cell_type": "code",
      "metadata": {
        "colab": {
          "base_uri": "https://localhost:8080/"
        },
        "id": "4wSe-mjj-2_B",
        "outputId": "25591e64-76d0-4d4b-847c-8675a8fcf6a5"
      },
      "source": [
        "print(arr_5.mean())\n",
        "print(arr_5.min())\n",
        "print(arr_5.max())"
      ],
      "execution_count": 71,
      "outputs": [
        {
          "output_type": "stream",
          "name": "stdout",
          "text": [
            "38.666666666666664\n",
            "8\n",
            "73\n"
          ]
        }
      ]
    },
    {
      "cell_type": "code",
      "metadata": {
        "colab": {
          "base_uri": "https://localhost:8080/"
        },
        "id": "CxgN1jZ1_FXY",
        "outputId": "32500e44-81d7-47a3-a5b9-af7ffe738681"
      },
      "source": [
        "print(np.sqrt(arr_6))\n",
        "print(np.cbrt(arr_4))\n",
        "print(np.exp(arr_5))\n",
        "print(np.log(arr_3))\n"
      ],
      "execution_count": 75,
      "outputs": [
        {
          "output_type": "stream",
          "name": "stdout",
          "text": [
            "[[ 9.8488578   5.47722558 12.08304597  8.          5.29150262]\n",
            " [ 6.70820393  7.21110255  9.8488578  11.70469991 11.09053651]\n",
            " [ 9.8488578   9.21954446  9.38083152  3.74165739  5.38516481]]\n",
            "[1.25992105 1.58740105 1.81712059 2.         2.15443469]\n",
            "[[5.83461743e+14 6.56599691e+07 1.14200739e+26]\n",
            " [2.98095799e+03 8.65934004e+16 5.05239363e+31]]\n",
            "[0.         0.69314718 1.09861229 1.38629436 2.7080502 ]\n"
          ]
        }
      ]
    },
    {
      "cell_type": "code",
      "metadata": {
        "colab": {
          "base_uri": "https://localhost:8080/"
        },
        "id": "Fy6Ofj0E_jF8",
        "outputId": "64195dca-afe0-468a-c08b-661b73c24208"
      },
      "source": [
        "np.lcm.reduce([9,12,15])"
      ],
      "execution_count": 77,
      "outputs": [
        {
          "output_type": "execute_result",
          "data": {
            "text/plain": [
              "180"
            ]
          },
          "metadata": {},
          "execution_count": 77
        }
      ]
    },
    {
      "cell_type": "code",
      "metadata": {
        "colab": {
          "base_uri": "https://localhost:8080/"
        },
        "id": "-lWz7MZW_9yA",
        "outputId": "ca7cb5ba-dc2b-4225-fd23-2740ec06ac32"
      },
      "source": [
        "np.floor([9,15,30])"
      ],
      "execution_count": 79,
      "outputs": [
        {
          "output_type": "execute_result",
          "data": {
            "text/plain": [
              "array([ 9., 15., 30.])"
            ]
          },
          "metadata": {},
          "execution_count": 79
        }
      ]
    },
    {
      "cell_type": "code",
      "metadata": {
        "colab": {
          "base_uri": "https://localhost:8080/"
        },
        "id": "x1P2rZNMAGDK",
        "outputId": "f683a819-7142-4133-96e2-0da64e646ae7"
      },
      "source": [
        "np.ceil([12,30])\n",
        "\n"
      ],
      "execution_count": 80,
      "outputs": [
        {
          "output_type": "execute_result",
          "data": {
            "text/plain": [
              "array([12., 30.])"
            ]
          },
          "metadata": {},
          "execution_count": 80
        }
      ]
    },
    {
      "cell_type": "code",
      "metadata": {
        "id": "IRQ_1R2SDbx-"
      },
      "source": [
        ""
      ],
      "execution_count": null,
      "outputs": []
    }
  ]
}