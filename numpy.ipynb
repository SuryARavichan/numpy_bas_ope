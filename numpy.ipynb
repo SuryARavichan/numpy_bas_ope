{
  "nbformat": 4,
  "nbformat_minor": 0,
  "metadata": {
    "colab": {
      "name": "numpy.ipynb",
      "provenance": [],
      "authorship_tag": "ABX9TyOeKKkV5QFxaYbgoUWXxFkA",
      "include_colab_link": true
    },
    "kernelspec": {
      "name": "python3",
      "display_name": "Python 3"
    },
    "language_info": {
      "name": "python"
    }
  },
  "cells": [
    {
      "cell_type": "markdown",
      "metadata": {
        "id": "view-in-github",
        "colab_type": "text"
      },
      "source": [
        "<a href=\"https://colab.research.google.com/github/SuryARavichan/numpy_bas_ope/blob/main/numpy.ipynb\" target=\"_parent\"><img src=\"https://colab.research.google.com/assets/colab-badge.svg\" alt=\"Open In Colab\"/></a>"
      ]
    },
    {
      "cell_type": "code",
      "metadata": {
        "id": "2RF5Nx8gF2Rm"
      },
      "source": [
        "import numpy as np"
      ],
      "execution_count": 2,
      "outputs": []
    },
    {
      "cell_type": "code",
      "metadata": {
        "id": "pqRG4QZWGEcv"
      },
      "source": [
        "import time"
      ],
      "execution_count": 10,
      "outputs": []
    },
    {
      "cell_type": "code",
      "metadata": {
        "id": "KGg9NSPSGv-7"
      },
      "source": [
        "import sys"
      ],
      "execution_count": 12,
      "outputs": []
    },
    {
      "cell_type": "code",
      "metadata": {
        "id": "VMT2dvmUGyQP"
      },
      "source": [
        "s = range(1000)"
      ],
      "execution_count": 14,
      "outputs": []
    },
    {
      "cell_type": "code",
      "metadata": {
        "colab": {
          "base_uri": "https://localhost:8080/"
        },
        "id": "ktv-08CLG0gH",
        "outputId": "b9bc55f7-74d5-4ca9-c1ef-6e8434263863"
      },
      "source": [
        "print(sys.getsizeof(5)*len(s))"
      ],
      "execution_count": 17,
      "outputs": [
        {
          "output_type": "stream",
          "name": "stdout",
          "text": [
            "28000\n"
          ]
        }
      ]
    },
    {
      "cell_type": "code",
      "metadata": {
        "id": "HtJTTe1kHBZ4"
      },
      "source": [
        "d = np.arange(1000)"
      ],
      "execution_count": 20,
      "outputs": []
    },
    {
      "cell_type": "code",
      "metadata": {
        "id": "DsdPKqELHHkd"
      },
      "source": [
        "size = 1000\n",
        "li1 = range(size)\n",
        "li2 = range(size)\n",
        "a1 = np.arange(size)\n",
        "a2 = np.arange(size)\n",
        "start = time.time()\n",
        "result = [(x,y) for x,y in zip(li1,li2)]"
      ],
      "execution_count": 23,
      "outputs": []
    },
    {
      "cell_type": "code",
      "metadata": {
        "colab": {
          "base_uri": "https://localhost:8080/"
        },
        "id": "0ICETA4pH3ts",
        "outputId": "1f0395fb-b830-415e-c02e-389425fc0a75"
      },
      "source": [
        "result = a1 + a2\n",
        "print(result)"
      ],
      "execution_count": 27,
      "outputs": [
        {
          "output_type": "stream",
          "name": "stdout",
          "text": [
            "[   0    2    4    6    8   10   12   14   16   18   20   22   24   26\n",
            "   28   30   32   34   36   38   40   42   44   46   48   50   52   54\n",
            "   56   58   60   62   64   66   68   70   72   74   76   78   80   82\n",
            "   84   86   88   90   92   94   96   98  100  102  104  106  108  110\n",
            "  112  114  116  118  120  122  124  126  128  130  132  134  136  138\n",
            "  140  142  144  146  148  150  152  154  156  158  160  162  164  166\n",
            "  168  170  172  174  176  178  180  182  184  186  188  190  192  194\n",
            "  196  198  200  202  204  206  208  210  212  214  216  218  220  222\n",
            "  224  226  228  230  232  234  236  238  240  242  244  246  248  250\n",
            "  252  254  256  258  260  262  264  266  268  270  272  274  276  278\n",
            "  280  282  284  286  288  290  292  294  296  298  300  302  304  306\n",
            "  308  310  312  314  316  318  320  322  324  326  328  330  332  334\n",
            "  336  338  340  342  344  346  348  350  352  354  356  358  360  362\n",
            "  364  366  368  370  372  374  376  378  380  382  384  386  388  390\n",
            "  392  394  396  398  400  402  404  406  408  410  412  414  416  418\n",
            "  420  422  424  426  428  430  432  434  436  438  440  442  444  446\n",
            "  448  450  452  454  456  458  460  462  464  466  468  470  472  474\n",
            "  476  478  480  482  484  486  488  490  492  494  496  498  500  502\n",
            "  504  506  508  510  512  514  516  518  520  522  524  526  528  530\n",
            "  532  534  536  538  540  542  544  546  548  550  552  554  556  558\n",
            "  560  562  564  566  568  570  572  574  576  578  580  582  584  586\n",
            "  588  590  592  594  596  598  600  602  604  606  608  610  612  614\n",
            "  616  618  620  622  624  626  628  630  632  634  636  638  640  642\n",
            "  644  646  648  650  652  654  656  658  660  662  664  666  668  670\n",
            "  672  674  676  678  680  682  684  686  688  690  692  694  696  698\n",
            "  700  702  704  706  708  710  712  714  716  718  720  722  724  726\n",
            "  728  730  732  734  736  738  740  742  744  746  748  750  752  754\n",
            "  756  758  760  762  764  766  768  770  772  774  776  778  780  782\n",
            "  784  786  788  790  792  794  796  798  800  802  804  806  808  810\n",
            "  812  814  816  818  820  822  824  826  828  830  832  834  836  838\n",
            "  840  842  844  846  848  850  852  854  856  858  860  862  864  866\n",
            "  868  870  872  874  876  878  880  882  884  886  888  890  892  894\n",
            "  896  898  900  902  904  906  908  910  912  914  916  918  920  922\n",
            "  924  926  928  930  932  934  936  938  940  942  944  946  948  950\n",
            "  952  954  956  958  960  962  964  966  968  970  972  974  976  978\n",
            "  980  982  984  986  988  990  992  994  996  998 1000 1002 1004 1006\n",
            " 1008 1010 1012 1014 1016 1018 1020 1022 1024 1026 1028 1030 1032 1034\n",
            " 1036 1038 1040 1042 1044 1046 1048 1050 1052 1054 1056 1058 1060 1062\n",
            " 1064 1066 1068 1070 1072 1074 1076 1078 1080 1082 1084 1086 1088 1090\n",
            " 1092 1094 1096 1098 1100 1102 1104 1106 1108 1110 1112 1114 1116 1118\n",
            " 1120 1122 1124 1126 1128 1130 1132 1134 1136 1138 1140 1142 1144 1146\n",
            " 1148 1150 1152 1154 1156 1158 1160 1162 1164 1166 1168 1170 1172 1174\n",
            " 1176 1178 1180 1182 1184 1186 1188 1190 1192 1194 1196 1198 1200 1202\n",
            " 1204 1206 1208 1210 1212 1214 1216 1218 1220 1222 1224 1226 1228 1230\n",
            " 1232 1234 1236 1238 1240 1242 1244 1246 1248 1250 1252 1254 1256 1258\n",
            " 1260 1262 1264 1266 1268 1270 1272 1274 1276 1278 1280 1282 1284 1286\n",
            " 1288 1290 1292 1294 1296 1298 1300 1302 1304 1306 1308 1310 1312 1314\n",
            " 1316 1318 1320 1322 1324 1326 1328 1330 1332 1334 1336 1338 1340 1342\n",
            " 1344 1346 1348 1350 1352 1354 1356 1358 1360 1362 1364 1366 1368 1370\n",
            " 1372 1374 1376 1378 1380 1382 1384 1386 1388 1390 1392 1394 1396 1398\n",
            " 1400 1402 1404 1406 1408 1410 1412 1414 1416 1418 1420 1422 1424 1426\n",
            " 1428 1430 1432 1434 1436 1438 1440 1442 1444 1446 1448 1450 1452 1454\n",
            " 1456 1458 1460 1462 1464 1466 1468 1470 1472 1474 1476 1478 1480 1482\n",
            " 1484 1486 1488 1490 1492 1494 1496 1498 1500 1502 1504 1506 1508 1510\n",
            " 1512 1514 1516 1518 1520 1522 1524 1526 1528 1530 1532 1534 1536 1538\n",
            " 1540 1542 1544 1546 1548 1550 1552 1554 1556 1558 1560 1562 1564 1566\n",
            " 1568 1570 1572 1574 1576 1578 1580 1582 1584 1586 1588 1590 1592 1594\n",
            " 1596 1598 1600 1602 1604 1606 1608 1610 1612 1614 1616 1618 1620 1622\n",
            " 1624 1626 1628 1630 1632 1634 1636 1638 1640 1642 1644 1646 1648 1650\n",
            " 1652 1654 1656 1658 1660 1662 1664 1666 1668 1670 1672 1674 1676 1678\n",
            " 1680 1682 1684 1686 1688 1690 1692 1694 1696 1698 1700 1702 1704 1706\n",
            " 1708 1710 1712 1714 1716 1718 1720 1722 1724 1726 1728 1730 1732 1734\n",
            " 1736 1738 1740 1742 1744 1746 1748 1750 1752 1754 1756 1758 1760 1762\n",
            " 1764 1766 1768 1770 1772 1774 1776 1778 1780 1782 1784 1786 1788 1790\n",
            " 1792 1794 1796 1798 1800 1802 1804 1806 1808 1810 1812 1814 1816 1818\n",
            " 1820 1822 1824 1826 1828 1830 1832 1834 1836 1838 1840 1842 1844 1846\n",
            " 1848 1850 1852 1854 1856 1858 1860 1862 1864 1866 1868 1870 1872 1874\n",
            " 1876 1878 1880 1882 1884 1886 1888 1890 1892 1894 1896 1898 1900 1902\n",
            " 1904 1906 1908 1910 1912 1914 1916 1918 1920 1922 1924 1926 1928 1930\n",
            " 1932 1934 1936 1938 1940 1942 1944 1946 1948 1950 1952 1954 1956 1958\n",
            " 1960 1962 1964 1966 1968 1970 1972 1974 1976 1978 1980 1982 1984 1986\n",
            " 1988 1990 1992 1994 1996 1998]\n"
          ]
        }
      ]
    },
    {
      "cell_type": "code",
      "metadata": {
        "colab": {
          "base_uri": "https://localhost:8080/"
        },
        "id": "iXmu6-KjIKXg",
        "outputId": "772ca260-2c78-4049-e12a-9e59f7d42482"
      },
      "source": [
        "a = np.array([1,2,3])\n",
        "print(a.itemsize)"
      ],
      "execution_count": 31,
      "outputs": [
        {
          "output_type": "stream",
          "name": "stdout",
          "text": [
            "8\n"
          ]
        }
      ]
    },
    {
      "cell_type": "code",
      "metadata": {
        "colab": {
          "base_uri": "https://localhost:8080/"
        },
        "id": "n2_iVPDRIvGE",
        "outputId": "c731f0ba-615f-4a8b-e337-268dd6fdcab9"
      },
      "source": [
        "a = np.array([1,2,3])\n",
        "print(a.data)"
      ],
      "execution_count": 33,
      "outputs": [
        {
          "output_type": "stream",
          "name": "stdout",
          "text": [
            "<memory at 0x7f97562deef0>\n"
          ]
        }
      ]
    },
    {
      "cell_type": "code",
      "metadata": {
        "colab": {
          "base_uri": "https://localhost:8080/"
        },
        "id": "a1MAgI60I0H_",
        "outputId": "2b5eaa50-fe97-4538-ccda-9887b6490874"
      },
      "source": [
        "a = np.array([1,2,3])\n",
        "print(a.itemset)"
      ],
      "execution_count": 35,
      "outputs": [
        {
          "output_type": "stream",
          "name": "stdout",
          "text": [
            "<built-in method itemset of numpy.ndarray object at 0x7f975602b7b0>\n"
          ]
        }
      ]
    },
    {
      "cell_type": "code",
      "metadata": {
        "colab": {
          "base_uri": "https://localhost:8080/"
        },
        "id": "wsGxVacFI39R",
        "outputId": "d65bfb28-1afb-4606-e8e7-f4d3910892c1"
      },
      "source": [
        "a = np.array([1,2,3,45,7,9,5,6,2,6,2,6])\n",
        "print(a.size)"
      ],
      "execution_count": 40,
      "outputs": [
        {
          "output_type": "stream",
          "name": "stdout",
          "text": [
            "12\n"
          ]
        }
      ]
    },
    {
      "cell_type": "code",
      "metadata": {
        "colab": {
          "base_uri": "https://localhost:8080/"
        },
        "id": "UV5uH_SuJRc_",
        "outputId": "33ac93c5-8af4-44fd-9424-3f6cec8a9bc5"
      },
      "source": [
        "a = np.array([(1,2,3,4,7,8,9,0),(4,5,6,4,10,15,89,62,02,30)])\n",
        "a = a.reshape(4,2)\n",
        "print(a)"
      ],
      "execution_count": 44,
      "outputs": [
        {
          "output_type": "stream",
          "name": "stdout",
          "text": [
            "[[1 2]\n",
            " [3 4]\n",
            " [4 5]\n",
            " [6 4]]\n"
          ]
        }
      ]
    },
    {
      "cell_type": "code",
      "metadata": {
        "colab": {
          "base_uri": "https://localhost:8080/"
        },
        "id": "_HHPT9uFJsgy",
        "outputId": "8fd4e67d-1924-452f-e2fb-2f747304419f"
      },
      "source": [
        "a = np.linspace(1,5,6)\n",
        "print(a)"
      ],
      "execution_count": 54,
      "outputs": [
        {
          "output_type": "stream",
          "name": "stdout",
          "text": [
            "[1.  1.8 2.6 3.4 4.2 5. ]\n"
          ]
        }
      ]
    },
    {
      "cell_type": "code",
      "metadata": {
        "colab": {
          "base_uri": "https://localhost:8080/"
        },
        "id": "qnuDhYJlJ2Kg",
        "outputId": "b7f5f2a9-2439-41c6-f234-0d50b55b6738"
      },
      "source": [
        "a.min()"
      ],
      "execution_count": 56,
      "outputs": [
        {
          "output_type": "execute_result",
          "data": {
            "text/plain": [
              "1.0"
            ]
          },
          "metadata": {},
          "execution_count": 56
        }
      ]
    },
    {
      "cell_type": "code",
      "metadata": {
        "colab": {
          "base_uri": "https://localhost:8080/"
        },
        "id": "PPuk5W-vKa2k",
        "outputId": "0a9ea789-766c-4a5c-8357-e38e84512a82"
      },
      "source": [
        "a.max()"
      ],
      "execution_count": 58,
      "outputs": [
        {
          "output_type": "execute_result",
          "data": {
            "text/plain": [
              "5.0"
            ]
          },
          "metadata": {},
          "execution_count": 58
        }
      ]
    },
    {
      "cell_type": "code",
      "metadata": {
        "colab": {
          "base_uri": "https://localhost:8080/"
        },
        "id": "g9kp14TgKc-D",
        "outputId": "95cfab54-83ab-45a4-dc62-e4d7ce99e81c"
      },
      "source": [
        "a.sum()"
      ],
      "execution_count": 60,
      "outputs": [
        {
          "output_type": "execute_result",
          "data": {
            "text/plain": [
              "18.0"
            ]
          },
          "metadata": {},
          "execution_count": 60
        }
      ]
    },
    {
      "cell_type": "code",
      "metadata": {
        "colab": {
          "base_uri": "https://localhost:8080/"
        },
        "id": "chMPNdhlKfUz",
        "outputId": "3eab3790-1bd8-495c-a58b-133e702edc42"
      },
      "source": [
        "a.transpose()"
      ],
      "execution_count": 63,
      "outputs": [
        {
          "output_type": "execute_result",
          "data": {
            "text/plain": [
              "array([1. , 1.8, 2.6, 3.4, 4.2, 5. ])"
            ]
          },
          "metadata": {},
          "execution_count": 63
        }
      ]
    },
    {
      "cell_type": "code",
      "metadata": {
        "colab": {
          "base_uri": "https://localhost:8080/"
        },
        "id": "nTwTnxkwKu1i",
        "outputId": "cbffae28-a7e0-4493-dd3b-b73e29fd0f5c"
      },
      "source": [
        "a.mean()"
      ],
      "execution_count": 67,
      "outputs": [
        {
          "output_type": "execute_result",
          "data": {
            "text/plain": [
              "3.0"
            ]
          },
          "metadata": {},
          "execution_count": 67
        }
      ]
    },
    {
      "cell_type": "code",
      "metadata": {
        "colab": {
          "base_uri": "https://localhost:8080/"
        },
        "id": "n69-ddaeK3l8",
        "outputId": "db27299f-57d4-49ef-d913-a9213127883f"
      },
      "source": [
        "print(np.sqrt(a))"
      ],
      "execution_count": 70,
      "outputs": [
        {
          "output_type": "stream",
          "name": "stdout",
          "text": [
            "[1.         1.34164079 1.61245155 1.84390889 2.04939015 2.23606798]\n"
          ]
        }
      ]
    },
    {
      "cell_type": "code",
      "metadata": {
        "colab": {
          "base_uri": "https://localhost:8080/"
        },
        "id": "XgAykohsLdFD",
        "outputId": "b1952f6c-38bd-4b13-99be-fef10ba361fe"
      },
      "source": [
        "print(np.std(a))"
      ],
      "execution_count": 72,
      "outputs": [
        {
          "output_type": "stream",
          "name": "stdout",
          "text": [
            "1.3662601021279464\n"
          ]
        }
      ]
    },
    {
      "cell_type": "code",
      "metadata": {
        "colab": {
          "base_uri": "https://localhost:8080/"
        },
        "id": "-3ZB2F1LLi7J",
        "outputId": "7dfe3fca-6261-42f9-d23b-1b068a4f345d"
      },
      "source": [
        "a = np.array([(1,2,3,4,7,8,9,0),(4,5,6,4,10,15,89,62,2,30)])\n",
        "b = np.array([(1,4,9,6,5,6,2,3),(7,8,6,4,10,15,89,62,15,30)])"
      ],
      "execution_count": 76,
      "outputs": [
        {
          "output_type": "stream",
          "name": "stderr",
          "text": [
            "/usr/local/lib/python3.7/dist-packages/ipykernel_launcher.py:1: VisibleDeprecationWarning: Creating an ndarray from ragged nested sequences (which is a list-or-tuple of lists-or-tuples-or ndarrays with different lengths or shapes) is deprecated. If you meant to do this, you must specify 'dtype=object' when creating the ndarray\n",
            "  \"\"\"Entry point for launching an IPython kernel.\n",
            "/usr/local/lib/python3.7/dist-packages/ipykernel_launcher.py:2: VisibleDeprecationWarning: Creating an ndarray from ragged nested sequences (which is a list-or-tuple of lists-or-tuples-or ndarrays with different lengths or shapes) is deprecated. If you meant to do this, you must specify 'dtype=object' when creating the ndarray\n",
            "  \n"
          ]
        }
      ]
    },
    {
      "cell_type": "code",
      "metadata": {
        "colab": {
          "base_uri": "https://localhost:8080/"
        },
        "id": "ZtzYWwlEL42B",
        "outputId": "30df8288-2ac5-4767-b2ef-f9d451bfbe54"
      },
      "source": [
        "print(a+b)\n"
      ],
      "execution_count": 82,
      "outputs": [
        {
          "output_type": "stream",
          "name": "stdout",
          "text": [
            "[(1, 2, 3, 4, 7, 8, 9, 0, 1, 4, 9, 6, 5, 6, 2, 3)\n",
            " (4, 5, 6, 4, 10, 15, 89, 62, 2, 30, 7, 8, 6, 4, 10, 15, 89, 62, 15, 30)]\n"
          ]
        }
      ]
    },
    {
      "cell_type": "code",
      "metadata": {
        "colab": {
          "base_uri": "https://localhost:8080/",
          "height": 265
        },
        "id": "8ELMhCZGMMpP",
        "outputId": "c7a1572f-9fdd-4659-c39c-318c82041506"
      },
      "source": [
        "import numpy as np\n",
        "import matplotlib.pyplot as plt\n",
        "\n",
        "x = np.arange(0,3*np.pi, 0.1)\n",
        "y = np.tan(x)\n",
        "plt.plot(x,y)\n",
        "plt.show()"
      ],
      "execution_count": 87,
      "outputs": [
        {
          "output_type": "display_data",
          "data": {
            "image/png": "[encoded data removed]",
            "text/plain": [
              "<Figure size 432x288 with 1 Axes>"
            ]
          },
          "metadata": {
            "needs_background": "light"
          }
        }
      ]
    },
    {
      "cell_type": "code",
      "metadata": {
        "colab": {
          "base_uri": "https://localhost:8080/"
        },
        "id": "8G27-_QLPVo9",
        "outputId": "38b420a1-51fa-42d8-e8f2-c2f36b8700e3"
      },
      "source": [
        "a = np.array([1,2,3])\n",
        "print(np.exp(a))\n",
        "print(np.log(a))\n",
        "print(np.log10(a))\n",
        "print(np.log1p(a))\n",
        "print(np.log2(a))"
      ],
      "execution_count": 91,
      "outputs": [
        {
          "output_type": "stream",
          "name": "stdout",
          "text": [
            "[ 2.71828183  7.3890561  20.08553692]\n",
            "[0.         0.69314718 1.09861229]\n",
            "[0.         0.30103    0.47712125]\n",
            "[0.69314718 1.09861229 1.38629436]\n",
            "[0.        1.        1.5849625]\n"
          ]
        }
      ]
    }
  ]
}